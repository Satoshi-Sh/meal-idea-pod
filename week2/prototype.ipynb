{
 "cells": [
  {
   "cell_type": "markdown",
   "metadata": {
    "id": "QiZenxJcWOyB"
   },
   "source": [
    "## Assignment 2 - Build Your Toy Example\n",
    "\n",
    "## Instructions\n",
    "Use this template to create your toy example. Replace each section with your content:\n",
    "\n",
    "1. **Project Overview**  \n",
    "   Briefly describe your project.\n",
    "\n",
    "2. **Input Data, Output Data, and Agent Code**  \n",
    "   - Replace the input data section with your dataset.  \n",
    "   - Update the output data section with your expected results.  \n",
    "   - Add your core code (e.g., functions, algorithms).\n",
    "\n",
    "3. **Final Output**  \n",
    "   - Print the output of your model.\n",
    "\n",
    "\n",
    "Submission:\n",
    "   - Record a short walkthrough of your notebook as a video and share this colab link on **#week-2**.\n",
    "\n",
    "\n",
    "Happy Building! 🚀\n"
   ]
  },
  {
   "cell_type": "markdown",
   "metadata": {
    "id": "valPL66Z_bLu"
   },
   "source": [
    "# 1. Project Overview\n",
    "\n",
    "## 📔 Meal Idea Pod\n",
    "\n",
    "### Project Overview\n",
    "This project is a simple implementation of a meal suggestion from food list using a language model. The system takes an input text(ingredient list) and generates meal suggestiong on the text.\n",
    "\n",
    "### 1. Input Data Used\n",
    "The input data is the text to be used for the meal suggestion. The text is random ingredients.\n",
    "\n",
    "### 2. Output Data\n",
    "The output data is a dictionary containing list of suggested meals and expected cooking time.\n",
    "\n",
    "### 3. Models Used\n",
    "- OpenAI GPT-4o\n",
    "- OpenAI GPT-4o-mini\n",
    "- HuggingFace\n",
    "\n"
   ]
  },
  {
   "cell_type": "markdown",
   "metadata": {
    "id": "ZDobkOS6YpYs"
   },
   "source": [
    "# 2. Input Data, Output Data, and Agent Code"
   ]
  },
  {
   "cell_type": "code",
   "execution_count": 1,
   "metadata": {
    "colab": {
     "base_uri": "https://localhost:8080/"
    },
    "id": "cmZ4MxpyWuSU",
    "outputId": "d952100f-5aa9-42d5-c6b9-9210cb4ae723"
   },
   "outputs": [],
   "source": [
    "# Import Libraries\n",
    "import random, openai, json, os\n",
    "\n",
    "from dotenv import load_dotenv"
   ]
  },
  {
   "cell_type": "code",
   "execution_count": 2,
   "metadata": {},
   "outputs": [],
   "source": [
    "load_dotenv()\n",
    "\n",
    "# Set the OpenAI API key\n",
    "openai.api_key = os.getenv(\"OPENAI_API_KEY\")"
   ]
  },
  {
   "cell_type": "markdown",
   "metadata": {
    "id": "hMNzkBAAiC9a"
   },
   "source": [
    "## Image Input\n",
    "User can upload food or receipt image and llm will give the json format as available ingredient."
   ]
  },
  {
   "cell_type": "code",
   "execution_count": null,
   "metadata": {
    "colab": {
     "base_uri": "https://localhost:8080/",
     "height": 408
    },
    "id": "O6dtjcX0iBbT",
    "outputId": "09fc13c4-a457-4376-df91-8e020e78b08b"
   },
   "outputs": [],
   "source": [
    "from IPython.display import Image\n",
    "input = \"Please give me the food in the picture in this format({tomato:3 pcs, garlic: 4pcs,...}). Please give me just the code.\"\n",
    "\n",
    "Image(filename='sample-food.jpg')\n",
    "\n"
   ]
  },
  {
   "cell_type": "code",
   "execution_count": 3,
   "metadata": {
    "id": "unAlP7RLkylD"
   },
   "outputs": [],
   "source": [
    "# Tested with chat gpt-40\n",
    "response= \"\"\"\n",
    "Unfortunately, I cannot identify the objects in the image directly.\n",
    "If you provide a description of the food items visible in the picture,\n",
    "I can format it for you in the requested structure.\n",
    "\"\"\""
   ]
  },
  {
   "cell_type": "code",
   "execution_count": null,
   "metadata": {
    "colab": {
     "base_uri": "https://localhost:8080/",
     "height": 570
    },
    "id": "lVZxxIbYlA3e",
    "outputId": "abfcb5e5-bd0d-456f-cbbc-78b8bdc0ba4f"
   },
   "outputs": [],
   "source": [
    "from IPython.display import Image\n",
    "input = \"\"\"1 Extract the text from the image?\n",
    "2 Give me the data in format ({tomato: 1pc, lettuce: 1pc,...}).\n",
    "Just respond with JSON.\"\"\"\n",
    "\n",
    "Image(filename='receipt_sample.jpeg')"
   ]
  },
  {
   "cell_type": "code",
   "execution_count": 4,
   "metadata": {
    "id": "SMa1GGCT3gMO"
   },
   "outputs": [],
   "source": [
    "response = {\n",
    "  \"zucchini_green\": \"0.778kg\",\n",
    "  \"banana_cavendish\": \"0.442kg\",\n",
    "  \"potatoes_bushed\": \"1.328kg\",\n",
    "  \"broccoli\": \"0.808kg\",\n",
    "  \"brussel_sprouts\": \"0.322kg\",\n",
    "  \"grapes_green\": \"1.174kg\",\n",
    "  \"peas_snow\": \"0.218kg\",\n",
    "  \"tomatoes_grape\": \"1pc\",\n",
    "  \"lettuce_iceberg\": \"1pc\"\n",
    "}\n"
   ]
  },
  {
   "cell_type": "markdown",
   "metadata": {
    "id": "0M4Gfte_fItT"
   },
   "source": [
    "## Meal Suggestions"
   ]
  },
  {
   "cell_type": "code",
   "execution_count": 52,
   "metadata": {
    "id": "haZjKYAsAJPz"
   },
   "outputs": [],
   "source": [
    "# Get Input Data\n",
    "## We Plan to get\n",
    "input_data = \"\"\"\n",
    "Instruction:\n",
    "Please give me some meal suggestion and expected cooking time(by minutes) according to the ingredients and preferences, put them\n",
    "in this format([\"curry\", 60], [\"meat bolognese\":70],...]) and sort by cooking time. Return only a JSON array of the questions..\n",
    "\n",
    "Ingredients:\n",
    "{chicken:2 kg, rosemary:1 bunch, olive oil:500ml, lemons:3 pcs,\n",
    "butter:250g, flour:1 kg, paprika:1 jar, parsley:1 bunch,\n",
    "potatoes:10 pcs, eggs:6 pcs, parmesan:200g, black pepper:1 jar,\n",
    "basil:1 bunch, mushrooms:200g, cream:250ml, salmon:2 fillets,\n",
    "soy sauce:1 bottle, ginger:1 root, cinnamon:1 stick,\n",
    "spinach:1 bunch, rice:2 kg, honey:1 jar, chili flakes:1 jar}\n",
    "\n",
    "Preferences:\n",
    "[Mexican,Japanese,Chinese]\n",
    "\"\"\"\n"
   ]
  },
  {
   "cell_type": "code",
   "execution_count": 7,
   "metadata": {
    "id": "TpAcUqET_WGv"
   },
   "outputs": [],
   "source": [
    "# Get Expected Output Data\n",
    "output_data = [[\"chicken stir-fry\", 30], [\"teriyaki salmon\", 35], [\"lemon herb rice\", 40],\n",
    "[\"spinach and mushroom omelette\", 45], [\"honey garlic chicken\", 50],\n",
    "[\"chicken fried rice\", 55], [\"soy-glazed salmon with ginger rice\", 60],\n",
    "[\"potato paprika curry\", 65], [\"chicken ramen\", 70],\n",
    "[\"Mexican chicken stew\", 80], [\"Japanese chicken katsu\", 90]]\n"
   ]
  },
  {
   "cell_type": "code",
   "execution_count": 86,
   "metadata": {},
   "outputs": [
    {
     "name": "stdout",
     "output_type": "stream",
     "text": [
      "ChatCompletion(id='chatcmpl-AdjE0Kmg5pewUQpnBMLrsruVM2Bwt', choices=[Choice(finish_reason='stop', index=0, logprobs=None, message=ChatCompletionMessage(content='```markdown\\n# Honey Garlic Chicken Recipe for 2\\n\\n## Ingredients\\n- 500g chicken (cut into pieces)\\n- 2 tbsp honey\\n- 2 tbsp soy sauce\\n- 1 clove garlic (minced, substitute with ginger if needed)\\n- 1 tbsp olive oil\\n- Pinch of black pepper\\n- Fresh parsley (for garnish)\\n\\n## Instructions\\n\\n1. **Marinate the Chicken:**\\n   - In a bowl, mix together honey, soy sauce, minced garlic (or grated ginger), and black pepper.\\n   - Add the chicken pieces to the marinade, ensuring they are well coated. Let it marinate for at least 30 minutes (or longer for better flavor).\\n\\n2. **Cook the Chicken:**\\n   - In a pan, heat 1 tbsp of olive oil over medium heat.\\n   - Add the marinated chicken pieces (reserve the marinade for later) and cook until they are golden brown and cooked through, about 6-8 minutes.\\n\\n3. **Add the Sauce:**\\n   - Pour the reserved marinade into the pan with the chicken.\\n   - Let it simmer for an additional 5 minutes, allowing the sauce to thicken slightly.\\n\\n4. **Serve:**\\n   - Plate the honey garlic chicken and garnish with freshly chopped parsley.\\n   - Enjoy with a side of potatoes or rice (you can boil or roast the potatoes as desired).\\n\\n```\\n', refusal=None, role='assistant', audio=None, function_call=None, tool_calls=None))], created=1734032000, model='gpt-4o-mini-2024-07-18', object='chat.completion', service_tier=None, system_fingerprint='fp_6fc10e10eb', usage=CompletionUsage(completion_tokens=286, prompt_tokens=162, total_tokens=448, completion_tokens_details=CompletionTokensDetails(accepted_prediction_tokens=0, audio_tokens=0, reasoning_tokens=0, rejected_prediction_tokens=0), prompt_tokens_details=PromptTokensDetails(audio_tokens=0, cached_tokens=0)))\n"
     ]
    }
   ],
   "source": [
    "# Make the API call using GPT-4\n",
    "client = openai.OpenAI()\n",
    "\n",
    "response = client.chat.completions.create(\n",
    "    messages=[{\n",
    "        \"role\": \"user\",\n",
    "        \"content\": input_data,\n",
    "    }],\n",
    "    model=\"gpt-4o-mini\",\n",
    ")\n",
    "\n",
    "print(response)"
   ]
  },
  {
   "cell_type": "code",
   "execution_count": 87,
   "metadata": {},
   "outputs": [
    {
     "name": "stdout",
     "output_type": "stream",
     "text": [
      "Fried rice, 25 mins\n",
      "Chicken stir-fry, 30 mins\n",
      "Salmon teriyaki, 30 mins\n",
      "Creamy chicken and mushroom pasta, 40 mins\n",
      "Chicken curry, 60 mins\n",
      "Rosemary lemon chicken, 60 mins\n",
      "Chicken enchiladas, 70 mins\n",
      "Soy ginger chicken, 70 mins\n"
     ]
    }
   ],
   "source": [
    "import ast\n",
    "\n",
    "text = response.to_dict()['choices'][0]['message']['content']\n",
    "\n",
    "menu_items = ast.literal_eval('[\\n [\"fried rice\", 25],\\n [\"chicken stir-fry\", 30],\\n [\"salmon teriyaki\", 30],\\n [\"creamy chicken and mushroom pasta\", 40],\\n [\"chicken curry\", 60],\\n [\"rosemary lemon chicken\", 60],\\n [\"chicken enchiladas\", 70],\\n [\"soy ginger chicken\", 70]\\n]')\n",
    "for menu, time in menu_items:\n",
    "    print(f\"{menu.capitalize()}, {time} mins\" )"
   ]
  },
  {
   "cell_type": "markdown",
   "metadata": {
    "id": "aqqFy7sBfR7q"
   },
   "source": [
    "## Recipe Instruction"
   ]
  },
  {
   "cell_type": "code",
   "execution_count": 76,
   "metadata": {
    "id": "Bm-xl1Xcfgwa"
   },
   "outputs": [],
   "source": [
    "menu = \"honey garlic chicken\"\n",
    "input_data = f\"\"\"\n",
    "Instruction:\n",
    "Please give me the recipe of {menu} according to the ingredients I have for 2 person. Return only markdown.\n",
    "\n",
    "Ingredients:\n",
    "{{chicken:2 kg, rosemary:1 bunch, olive oil:500ml, lemons:3 pcs,\n",
    "butter:250g, flour:1 kg, paprika:1 jar, parsley:1 bunch,\n",
    "potatoes:10 pcs, eggs:6 pcs, parmesan:200g, black pepper:1 jar,\n",
    "basil:1 bunch, mushrooms:200g, cream:250ml, salmon:2 fillets,\n",
    "soy sauce:1 bottle, ginger:1 root, cinnamon:1 stick,\n",
    "spinach:1 bunch, rice:2 kg, honey:1 jar, chili flakes:1 jar}}\n",
    "\"\"\""
   ]
  },
  {
   "cell_type": "code",
   "execution_count": 67,
   "metadata": {
    "id": "L4UFZH5Gh23F"
   },
   "outputs": [],
   "source": [
    "# Get Expected Output Data\n",
    "output_data = \"\"\"\n",
    "# Honey Garlic Chicken Recipe\n",
    "\n",
    "## Ingredients:\n",
    "- 1 kg chicken (from the 2kg provided)\n",
    "- 2 tablespoons olive oil\n",
    "- 4 cloves garlic (minced, from the 4 pcs available)\n",
    "- 1/3 cup honey\n",
    "- 3 tablespoons soy sauce\n",
    "- 1 teaspoon chili flakes (optional)\n",
    "- Salt and black pepper to taste\n",
    "- Parsley (chopped for garnish)\n",
    "\n",
    "## Instructions:\n",
    "\n",
    "1. **Prepare the Chicken:**\n",
    "   - Cut the chicken into bite-sized pieces or leave it whole based on your preference.\n",
    "   - Season the chicken with salt and black pepper.\n",
    "\n",
    "2. **Cook the Chicken:**\n",
    "   - Heat olive oil in a large skillet over medium heat.\n",
    "   - Add the chicken pieces and cook until golden brown and fully cooked (about 8-10 minutes). Remove from the skillet and set aside.\n",
    "\n",
    "3. **Prepare the Honey Garlic Sauce:**\n",
    "   - In the same skillet, reduce the heat to low and add the minced garlic. Sauté for 1-2 minutes until fragrant.\n",
    "   - Add honey, soy sauce, and chili flakes (if using) to the skillet.\n",
    "   - Stir the sauce and let it simmer for 3-4 minutes until it thickens slightly.\n",
    "\n",
    "4. **Combine Chicken and Sauce:**\n",
    "   - Return the cooked chicken to the skillet.\n",
    "   - Toss the chicken in the honey garlic sauce until well-coated.\n",
    "\n",
    "5. **Garnish and Serve:**\n",
    "   - Garnish with chopped parsley.\n",
    "   - Serve hot with steamed rice, roasted potatoes, or a side of spinach.\n",
    "\n",
    "6. **Enjoy:**\n",
    "   - Indulge in this sweet and savory honey garlic chicken!!\n",
    "\n",
    "\"\"\""
   ]
  },
  {
   "cell_type": "code",
   "execution_count": 88,
   "metadata": {},
   "outputs": [
    {
     "name": "stdout",
     "output_type": "stream",
     "text": [
      "ChatCompletion(id='chatcmpl-AdjEFuXgAWiiYhym5aOlwtcAR9lej', choices=[Choice(finish_reason='stop', index=0, logprobs=None, message=ChatCompletionMessage(content='```markdown\\n# Honey Garlic Chicken Recipe for 2\\n\\n## Ingredients\\n- 500g chicken (from your 2 kg supply)\\n- 2 tbsp olive oil (from your 500ml supply)\\n- 2 tbsp honey (from your jar)\\n- 2 tbsp soy sauce (from your bottle)\\n- 1 clove ginger, minced (from your root)\\n- 1 tsp black pepper (from your jar)\\n- 1 tsp paprika (from your jar)\\n- 1 tbsp butter (from your 250g supply)\\n- Optional: chopped parsley (from your bunch) for garnish\\n\\n## Instructions\\n\\n1. **Prepare the Marinade:**\\n   - In a bowl, whisk together the honey, soy sauce, minced ginger, olive oil, black pepper, and paprika.\\n\\n2. **Marinate the Chicken:**\\n   - Place the chicken in a sealable bag or a bowl and pour the marinade over it. Make sure the chicken is well-coated. Marinate for at least 30 minutes (or up to overnight in the refrigerator for more flavor).\\n\\n3. **Cook the Chicken:**\\n   - Heat the butter in a pan over medium heat. Once melted, add the marinated chicken.\\n   - Cook for about 6-8 minutes on each side, or until the chicken is fully cooked and has a nice glaze from the marinade. Use a meat thermometer; it should read 75°C (165°F).\\n\\n4. **Serve:**\\n   - Remove the chicken from the pan and let it rest for a few minutes. \\n   - Optionally, sprinkle with chopped parsley for garnish.\\n   - Serve the chicken with a side of your choice, such as rice or roasted potatoes.\\n\\n### Enjoy your delicious Honey Garlic Chicken!\\n```', refusal=None, role='assistant', audio=None, function_call=None, tool_calls=None))], created=1734032015, model='gpt-4o-mini-2024-07-18', object='chat.completion', service_tier=None, system_fingerprint='fp_6fc10e10eb', usage=CompletionUsage(completion_tokens=356, prompt_tokens=162, total_tokens=518, completion_tokens_details=CompletionTokensDetails(accepted_prediction_tokens=0, audio_tokens=0, reasoning_tokens=0, rejected_prediction_tokens=0), prompt_tokens_details=PromptTokensDetails(audio_tokens=0, cached_tokens=0)))\n"
     ]
    }
   ],
   "source": [
    "# Make the API call using GPT-4\n",
    "client = openai.OpenAI()\n",
    "\n",
    "response = client.chat.completions.create(\n",
    "    messages=[{\n",
    "        \"role\": \"user\",\n",
    "        \"content\": input_data,\n",
    "    }],\n",
    "    model=\"gpt-4o-mini\",\n",
    ")\n",
    "\n",
    "print(response)"
   ]
  },
  {
   "cell_type": "code",
   "execution_count": 89,
   "metadata": {},
   "outputs": [
    {
     "data": {
      "text/markdown": [
       "```markdown\n",
       "# Honey Garlic Chicken Recipe for 2\n",
       "\n",
       "## Ingredients\n",
       "- 500g chicken (from your 2 kg supply)\n",
       "- 2 tbsp olive oil (from your 500ml supply)\n",
       "- 2 tbsp honey (from your jar)\n",
       "- 2 tbsp soy sauce (from your bottle)\n",
       "- 1 clove ginger, minced (from your root)\n",
       "- 1 tsp black pepper (from your jar)\n",
       "- 1 tsp paprika (from your jar)\n",
       "- 1 tbsp butter (from your 250g supply)\n",
       "- Optional: chopped parsley (from your bunch) for garnish\n",
       "\n",
       "## Instructions\n",
       "\n",
       "1. **Prepare the Marinade:**\n",
       "   - In a bowl, whisk together the honey, soy sauce, minced ginger, olive oil, black pepper, and paprika.\n",
       "\n",
       "2. **Marinate the Chicken:**\n",
       "   - Place the chicken in a sealable bag or a bowl and pour the marinade over it. Make sure the chicken is well-coated. Marinate for at least 30 minutes (or up to overnight in the refrigerator for more flavor).\n",
       "\n",
       "3. **Cook the Chicken:**\n",
       "   - Heat the butter in a pan over medium heat. Once melted, add the marinated chicken.\n",
       "   - Cook for about 6-8 minutes on each side, or until the chicken is fully cooked and has a nice glaze from the marinade. Use a meat thermometer; it should read 75°C (165°F).\n",
       "\n",
       "4. **Serve:**\n",
       "   - Remove the chicken from the pan and let it rest for a few minutes. \n",
       "   - Optionally, sprinkle with chopped parsley for garnish.\n",
       "   - Serve the chicken with a side of your choice, such as rice or roasted potatoes.\n",
       "\n",
       "### Enjoy your delicious Honey Garlic Chicken!\n",
       "```"
      ],
      "text/plain": [
       "<IPython.core.display.Markdown object>"
      ]
     },
     "metadata": {},
     "output_type": "display_data"
    }
   ],
   "source": [
    "from IPython.display import Markdown\n",
    "\n",
    "text = response.to_dict()['choices'][0]['message']['content']\n",
    "\n",
    "display(Markdown(text))"
   ]
  },
  {
   "cell_type": "code",
   "execution_count": null,
   "metadata": {},
   "outputs": [],
   "source": []
  }
 ],
 "metadata": {
  "colab": {
   "provenance": []
  },
  "kernelspec": {
   "display_name": ".venv",
   "language": "python",
   "name": "python3"
  },
  "language_info": {
   "codemirror_mode": {
    "name": "ipython",
    "version": 3
   },
   "file_extension": ".py",
   "mimetype": "text/x-python",
   "name": "python",
   "nbconvert_exporter": "python",
   "pygments_lexer": "ipython3",
   "version": "3.8.3"
  }
 },
 "nbformat": 4,
 "nbformat_minor": 4
}
